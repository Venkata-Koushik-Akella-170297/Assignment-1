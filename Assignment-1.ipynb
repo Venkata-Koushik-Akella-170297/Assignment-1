{
 "cells": [
  {
   "cell_type": "markdown",
   "id": "5da373b9-9ad4-4439-8244-699f685f9035",
   "metadata": {},
   "source": [
    "# 09 May Assignment #"
   ]
  },
  {
   "cell_type": "markdown",
   "id": "d552e80f-9075-4ed8-975f-01c48d44a1ff",
   "metadata": {},
   "source": [
    "### Q1. create one variable containing the following type of data ###\n",
    "1. String\n",
    "2. list\n",
    "3. float\n",
    "4. tuple"
   ]
  },
  {
   "cell_type": "markdown",
   "id": "cb01ec31-d1fd-45e5-9ed8-b423da2e7269",
   "metadata": {
    "jp-MarkdownHeadingCollapsed": true,
    "tags": []
   },
   "source": [
    "### code for Q1 ###"
   ]
  },
  {
   "cell_type": "code",
   "execution_count": 1,
   "id": "4a2353c2-47eb-4988-aa68-e59d9e9ad1ab",
   "metadata": {},
   "outputs": [],
   "source": [
    "str_var = \"PWSkills\"\n",
    "lst_var = [\"Data\",\"Science\",2023]\n",
    "flt_var = 20.23\n",
    "tpl_var = (1,2,3,4)"
   ]
  },
  {
   "cell_type": "code",
   "execution_count": 2,
   "id": "1231d7a4-d7df-449b-b81f-c289289858af",
   "metadata": {},
   "outputs": [
    {
     "name": "stdout",
     "output_type": "stream",
     "text": [
      "<class 'str'>\n",
      "<class 'list'>\n",
      "<class 'float'>\n",
      "<class 'tuple'>\n"
     ]
    }
   ],
   "source": [
    "print(type(str_var))\n",
    "print(type(lst_var))\n",
    "print(type(flt_var))\n",
    "print(type(tpl_var))"
   ]
  },
  {
   "cell_type": "markdown",
   "id": "57cf68a2-2d6b-49f8-a3aa-2fcce2d98698",
   "metadata": {},
   "source": [
    "### Q2. Given are some following variables containing data:\n",
    "1. var1 = ‘ ‘\n",
    "2. var2 = ‘[ DS , ML , Python]’\n",
    "3. var3 = [ ‘DS’ , ’ML’ , ‘Python’ ]\n",
    "4. var4 = 1.\n",
    "\n",
    "What will be the data type of the above given variable."
   ]
  },
  {
   "cell_type": "markdown",
   "id": "d97ef5a3-393a-43f1-8db1-7339beeeab22",
   "metadata": {
    "jp-MarkdownHeadingCollapsed": true,
    "tags": []
   },
   "source": [
    "### Code for Q2"
   ]
  },
  {
   "cell_type": "code",
   "execution_count": 4,
   "id": "4979dcb4-8683-45cd-9e4b-67b1f771d427",
   "metadata": {},
   "outputs": [],
   "source": [
    "var1 = ''\n",
    "var2 = '[ DS , ML , Python]'\n",
    "var3 = [ 'DS' , 'ML' , 'Python' ]\n",
    "var4 = 1.\n"
   ]
  },
  {
   "cell_type": "code",
   "execution_count": 5,
   "id": "ada52c50-3224-48b6-aba3-362d6b43de45",
   "metadata": {},
   "outputs": [
    {
     "name": "stdout",
     "output_type": "stream",
     "text": [
      "<class 'str'>\n",
      "<class 'str'>\n",
      "<class 'list'>\n",
      "<class 'float'>\n"
     ]
    }
   ],
   "source": [
    "print(type(var1))\n",
    "print(type(var2))\n",
    "print(type(var3))\n",
    "print(type(var4))"
   ]
  },
  {
   "cell_type": "markdown",
   "id": "02049729-9703-4c78-a1f7-f1b128f53808",
   "metadata": {},
   "source": [
    "### Q3. Explain the use of the following operators using an example:\n",
    "1. /\n",
    "2. %\n",
    "3. //\n",
    "4. **"
   ]
  },
  {
   "cell_type": "markdown",
   "id": "ea7619d9-6780-43fe-b1eb-6fb0d1676d29",
   "metadata": {
    "jp-MarkdownHeadingCollapsed": true,
    "tags": []
   },
   "source": [
    "### Ans with code for Q3"
   ]
  },
  {
   "cell_type": "code",
   "execution_count": 10,
   "id": "6ade6fe7-0a3b-4bbd-b653-36a191b6e81b",
   "metadata": {},
   "outputs": [
    {
     "name": "stdout",
     "output_type": "stream",
     "text": [
      "3.0\n"
     ]
    }
   ],
   "source": [
    "# '/' operator is called the division operator. \n",
    "# when using this operator, it gives the quotient of the division between two numbers as the output.\n",
    "# the output will be a floating point data type by default.\n",
    "# Ex code for demonstration\n",
    "\n",
    "a = 18/6 # the quotient of 18/6 is 3.0 hence the value of a should be 3.0\n",
    "# let's check the value of a\n",
    "print(a)\n"
   ]
  },
  {
   "cell_type": "code",
   "execution_count": 8,
   "id": "b7aeb947-0fa6-4c30-ad88-f8021b87bd10",
   "metadata": {},
   "outputs": [
    {
     "name": "stdout",
     "output_type": "stream",
     "text": [
      "0\n"
     ]
    }
   ],
   "source": [
    "# '%' is called the modulo operator. \n",
    "# it gives the remainder of the division between two numbers.\n",
    "# let us take the same example code as above but with the % operator\n",
    "\n",
    "b = 18%6 # since 18 is exactly divisible by 6, the value of b should be 0 (remainder)\n",
    "# let us check the value of b\n",
    "print(b)"
   ]
  },
  {
   "cell_type": "code",
   "execution_count": 12,
   "id": "dba4d4f9-795c-4a98-bdc4-795c1f08e0bf",
   "metadata": {},
   "outputs": [
    {
     "name": "stdout",
     "output_type": "stream",
     "text": [
      "3\n"
     ]
    }
   ],
   "source": [
    "# '//' is the integer division operator.\n",
    "# this works just like the division operator discussed above with quotient as output.\n",
    "# but the output in this case will be an 'int' datatype by default.\n",
    "# let us take the same example as above. here the output of the division should be 3 instead of 3.0\n",
    "c = 18//6\n",
    "# let's check the value of c\n",
    "print(c)"
   ]
  },
  {
   "cell_type": "code",
   "execution_count": 14,
   "id": "6e49a4d8-d76d-41ca-81d1-a9b22e765fc8",
   "metadata": {},
   "outputs": [
    {
     "name": "stdout",
     "output_type": "stream",
     "text": [
      "8\n"
     ]
    }
   ],
   "source": [
    "# '**' is called the power operator.\n",
    "# it is used to raise the power of a number by some other number.\n",
    "# syntax is a**b - where a is raised to the power of b\n",
    "# the code will throw a syntax error if b is not mentioned in the syntax\n",
    "\n",
    "# demonstration code\n",
    "d = 2**3 # 2 raised to the power of 3 should be 8, let's check\n",
    "print(d)"
   ]
  },
  {
   "cell_type": "markdown",
   "id": "991cc39c-61aa-4c02-8e09-1785067acb0b",
   "metadata": {},
   "source": [
    "### Q4. Create a list of length 10 of your choice containing multiple types of data. Using for loop print the element and its data type."
   ]
  },
  {
   "cell_type": "markdown",
   "id": "5a3ec166-ade8-4d8c-91e5-198003ac0af2",
   "metadata": {
    "jp-MarkdownHeadingCollapsed": true,
    "tags": []
   },
   "source": [
    "### Code for Q4"
   ]
  },
  {
   "cell_type": "code",
   "execution_count": 16,
   "id": "5e94b12d-7ef4-49be-b8a7-9b038b876c98",
   "metadata": {},
   "outputs": [
    {
     "name": "stdout",
     "output_type": "stream",
     "text": [
      "PWskills\n",
      "<class 'str'>\n",
      "Data\n",
      "<class 'str'>\n",
      "Science\n",
      "<class 'str'>\n",
      "2.0\n",
      "<class 'float'>\n",
      "May\n",
      "<class 'str'>\n",
      "9\n",
      "<class 'int'>\n",
      "2023\n",
      "<class 'int'>\n",
      "True\n",
      "<class 'bool'>\n",
      "2024\n",
      "<class 'int'>\n",
      "job target\n",
      "<class 'str'>\n"
     ]
    }
   ],
   "source": [
    "lst = [\"PWskills\", \"Data\", \"Science\", 2.0, \"May\", 9, 2023, True, 2024, \"job target\"]\n",
    "for elem in lst:\n",
    "    print(elem)\n",
    "    print(type(elem))"
   ]
  },
  {
   "cell_type": "markdown",
   "id": "58b7c4e5-3f2a-4900-8d35-cddca0448b16",
   "metadata": {},
   "source": [
    "### Q5. Using a while loop, verify if the number A is purely divisible by number B and if so then how many times it can be divisible."
   ]
  },
  {
   "cell_type": "markdown",
   "id": "2f70773b-22e2-4587-bf6c-7a9baa09758d",
   "metadata": {
    "jp-MarkdownHeadingCollapsed": true,
    "tags": []
   },
   "source": [
    "### Code for Q5"
   ]
  },
  {
   "cell_type": "code",
   "execution_count": 1,
   "id": "eaaa32d7-f390-415b-9cd0-329b8dd9f93c",
   "metadata": {},
   "outputs": [
    {
     "name": "stdout",
     "output_type": "stream",
     "text": [
      "Enter number A:  12\n",
      "Enter number B:  6\n"
     ]
    },
    {
     "name": "stdout",
     "output_type": "stream",
     "text": [
      "0 is purely divisible by 6 and can be divided 2 times.\n"
     ]
    }
   ],
   "source": [
    "# Input values A and B\n",
    "A = int(input(\"Enter number A: \"))\n",
    "B = int(input(\"Enter number B: \"))\n",
    "\n",
    "# Initialize a count variable to keep track of the number of divisions\n",
    "count = 0\n",
    "\n",
    "# Check if B is not zero (to avoid division by zero) and if A is greater than or equal to B\n",
    "while B != 0 and A >= B:\n",
    "    A = A - B  # Subtract B from A\n",
    "    count += 1  # Increment the count\n",
    "\n",
    "# Check if A becomes zero, which indicates purely divisible\n",
    "if A == 0:\n",
    "    print(f\"{A} is purely divisible by {B} and can be divided {count} times.\")\n",
    "else:\n",
    "    print(f\"{A} is not purely divisible by {B}. Remainder: {A}\")"
   ]
  },
  {
   "cell_type": "markdown",
   "id": "f81e478b-3224-4113-96cb-d09926cdeb70",
   "metadata": {},
   "source": [
    "### Q6. Create a list containing 25 int type data. Using for loop and if-else condition print if the element is divisible by 3 or not."
   ]
  },
  {
   "cell_type": "markdown",
   "id": "20bb061f-6abc-445d-a8b8-1d758acbaf9a",
   "metadata": {
    "jp-MarkdownHeadingCollapsed": true,
    "tags": []
   },
   "source": [
    "### Code for Q6"
   ]
  },
  {
   "cell_type": "code",
   "execution_count": 4,
   "id": "10bbd581-a710-440d-a963-7464ae58260e",
   "metadata": {},
   "outputs": [
    {
     "name": "stdout",
     "output_type": "stream",
     "text": [
      "3\n",
      "60\n",
      "21\n",
      "75\n",
      "84\n",
      "54\n",
      "45\n",
      "99\n",
      "90\n",
      "57\n"
     ]
    }
   ],
   "source": [
    "lst = [8, 16, 3, 60, 79, 21, 92, 61, 75, 14, 32, 84, 13, 80, 10, 54, 45, 99, 59, 73, 98, 43, 90, 29, 57]\n",
    "for num in lst:\n",
    "    if num%3==0:\n",
    "        print(num)\n",
    "    else:\n",
    "        pass"
   ]
  },
  {
   "cell_type": "markdown",
   "id": "29f3affe-7142-49db-ada1-bfc0d2725757",
   "metadata": {},
   "source": [
    "### Q7. What do you understand about mutable and immutable data types? Give examples for both showing this property."
   ]
  },
  {
   "cell_type": "markdown",
   "id": "8973d42f-1d09-40b1-8855-b5ea8b7bc2c3",
   "metadata": {
    "jp-MarkdownHeadingCollapsed": true,
    "tags": []
   },
   "source": [
    "### Ans with code for Q7"
   ]
  },
  {
   "cell_type": "markdown",
   "id": "3a76e405-8817-4ff1-adab-12475d20c1d3",
   "metadata": {},
   "source": [
    "Mutable sequences are those sequences where the independent terms within the sequence can be changed by accessing their index number\n",
    "\n",
    "Ex: list is a mutable sequence"
   ]
  },
  {
   "cell_type": "code",
   "execution_count": 1,
   "id": "5f02bd3e-4563-4341-914b-f7a36b549c08",
   "metadata": {},
   "outputs": [
    {
     "name": "stdout",
     "output_type": "stream",
     "text": [
      "[1, 16, 3, 60, 79, 21, 92, 61, 75, 14, 32, 84, 13, 80, 10, 54, 45, 99, 59, 73, 98, 43, 90, 29, 57]\n"
     ]
    }
   ],
   "source": [
    "lst = [8, 16, 3, 60, 79, 21, 92, 61, 75, 14, 32, 84, 13, 80, 10, 54, 45, 99, 59, 73, 98, 43, 90, 29, 57]\n",
    "# since list is a mutable sequence, we can change any value in the list using its index. \n",
    "#let us change the first element to 1\n",
    "lst[0]=1 # this should not throw an error since list is mutable\n",
    "print(lst)"
   ]
  },
  {
   "cell_type": "markdown",
   "id": "8aba5908-dff7-4ee6-a21a-d6066dad6805",
   "metadata": {},
   "source": [
    "immutable sequences are those sequences that cannot be altered once declared. it cannot be altered even with the index of that particular variable.\n",
    "\n",
    "ex: strings are immutable sequences"
   ]
  },
  {
   "cell_type": "code",
   "execution_count": 3,
   "id": "64595c28-bb02-489b-a149-50b26117f14d",
   "metadata": {},
   "outputs": [
    {
     "ename": "TypeError",
     "evalue": "'str' object does not support item assignment",
     "output_type": "error",
     "traceback": [
      "\u001b[0;31m---------------------------------------------------------------------------\u001b[0m",
      "\u001b[0;31mTypeError\u001b[0m                                 Traceback (most recent call last)",
      "Cell \u001b[0;32mIn[3], line 3\u001b[0m\n\u001b[1;32m      1\u001b[0m string \u001b[38;5;241m=\u001b[39m \u001b[38;5;124m\"\u001b[39m\u001b[38;5;124mthe quick brown fox jumped over a lazy dog\u001b[39m\u001b[38;5;124m\"\u001b[39m\n\u001b[1;32m      2\u001b[0m \u001b[38;5;66;03m# i will try to change the word 'quick' in the above string to 'slow' using indexing\u001b[39;00m\n\u001b[0;32m----> 3\u001b[0m \u001b[43mstring\u001b[49m\u001b[43m[\u001b[49m\u001b[38;5;241;43m1\u001b[39;49m\u001b[43m]\u001b[49m \u001b[38;5;241m=\u001b[39m \u001b[38;5;124m\"\u001b[39m\u001b[38;5;124mslow\u001b[39m\u001b[38;5;124m\"\u001b[39m \u001b[38;5;66;03m#this should throw an error as strings are immutable\u001b[39;00m\n",
      "\u001b[0;31mTypeError\u001b[0m: 'str' object does not support item assignment"
     ]
    }
   ],
   "source": [
    "string = \"the quick brown fox jumped over a lazy dog\"\n",
    "# i will try to change the word 'quick' in the above string to 'slow' using indexing\n",
    "string[1] = \"slow\" #this should throw an error as strings are immutable"
   ]
  }
 ],
 "metadata": {
  "kernelspec": {
   "display_name": "Python 3 (ipykernel)",
   "language": "python",
   "name": "python3"
  },
  "language_info": {
   "codemirror_mode": {
    "name": "ipython",
    "version": 3
   },
   "file_extension": ".py",
   "mimetype": "text/x-python",
   "name": "python",
   "nbconvert_exporter": "python",
   "pygments_lexer": "ipython3",
   "version": "3.10.8"
  }
 },
 "nbformat": 4,
 "nbformat_minor": 5
}
